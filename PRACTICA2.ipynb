{
 "cells": [
  {
   "cell_type": "markdown",
   "id": "aa19765f-a9b9-40a6-8400-4e5377edb8c4",
   "metadata": {},
   "source": [
    "# AUTOR: JEFREE MENDOZA MIRANDA"
   ]
  },
  {
   "cell_type": "markdown",
   "id": "5ea7fcfe-589e-4ed8-8f9f-5d034e149efe",
   "metadata": {},
   "source": [
    "# Estructuras Iterativas"
   ]
  },
  {
   "cell_type": "markdown",
   "id": "a4354f4e-37c5-44bb-8bf0-b8f371e8b8cd",
   "metadata": {
    "tags": []
   },
   "source": [
    "# Problema 1:"
   ]
  },
  {
   "cell_type": "markdown",
   "id": "e3bf0999-3463-4abe-b213-9d97d6630b76",
   "metadata": {
    "tags": []
   },
   "source": [
    "Escribe un programa en Python para encontrar los números que son divisibles por 7 y múltiplos de 5,\n",
    "en el rango de 1500 y 2700 (ambos incluidos)."
   ]
  },
  {
   "cell_type": "markdown",
   "id": "27729102-534e-41de-b980-30d00d74fa99",
   "metadata": {
    "tags": []
   },
   "source": [
    "# Solucion:"
   ]
  },
  {
   "cell_type": "code",
   "execution_count": 85,
   "id": "322c2d96-dbfc-424b-a1a1-60d7f59dbe74",
   "metadata": {},
   "outputs": [
    {
     "name": "stdout",
     "output_type": "stream",
     "text": [
      "El numero 1505, es divisible por 7 y múltiplo de 5.\n",
      "El numero 1540, es divisible por 7 y múltiplo de 5.\n",
      "El numero 1575, es divisible por 7 y múltiplo de 5.\n",
      "El numero 1610, es divisible por 7 y múltiplo de 5.\n",
      "El numero 1645, es divisible por 7 y múltiplo de 5.\n",
      "El numero 1680, es divisible por 7 y múltiplo de 5.\n",
      "El numero 1715, es divisible por 7 y múltiplo de 5.\n",
      "El numero 1750, es divisible por 7 y múltiplo de 5.\n",
      "El numero 1785, es divisible por 7 y múltiplo de 5.\n",
      "El numero 1820, es divisible por 7 y múltiplo de 5.\n",
      "El numero 1855, es divisible por 7 y múltiplo de 5.\n",
      "El numero 1890, es divisible por 7 y múltiplo de 5.\n",
      "El numero 1925, es divisible por 7 y múltiplo de 5.\n",
      "El numero 1960, es divisible por 7 y múltiplo de 5.\n",
      "El numero 1995, es divisible por 7 y múltiplo de 5.\n",
      "El numero 2030, es divisible por 7 y múltiplo de 5.\n",
      "El numero 2065, es divisible por 7 y múltiplo de 5.\n",
      "El numero 2100, es divisible por 7 y múltiplo de 5.\n",
      "El numero 2135, es divisible por 7 y múltiplo de 5.\n",
      "El numero 2170, es divisible por 7 y múltiplo de 5.\n",
      "El numero 2205, es divisible por 7 y múltiplo de 5.\n",
      "El numero 2240, es divisible por 7 y múltiplo de 5.\n",
      "El numero 2275, es divisible por 7 y múltiplo de 5.\n",
      "El numero 2310, es divisible por 7 y múltiplo de 5.\n",
      "El numero 2345, es divisible por 7 y múltiplo de 5.\n",
      "El numero 2380, es divisible por 7 y múltiplo de 5.\n",
      "El numero 2415, es divisible por 7 y múltiplo de 5.\n",
      "El numero 2450, es divisible por 7 y múltiplo de 5.\n",
      "El numero 2485, es divisible por 7 y múltiplo de 5.\n",
      "El numero 2520, es divisible por 7 y múltiplo de 5.\n",
      "El numero 2555, es divisible por 7 y múltiplo de 5.\n",
      "El numero 2590, es divisible por 7 y múltiplo de 5.\n",
      "El numero 2625, es divisible por 7 y múltiplo de 5.\n",
      "El numero 2660, es divisible por 7 y múltiplo de 5.\n",
      "El numero 2695, es divisible por 7 y múltiplo de 5.\n"
     ]
    }
   ],
   "source": [
    "for i in range(1500,2701):\n",
    "    if i%7==0 and i%5==0:\n",
    "        print(f\"El numero {i}, es divisible por 7 y múltiplo de 5.\")\n",
    "   ## else: (ADICIONAL SOLO PARA VALIDAR TODOS LOS NUMEROS) (NO SE MUESTRA)\n",
    "      ##    print(f\"{i}, No cumple la condicion...\")"
   ]
  },
  {
   "cell_type": "markdown",
   "id": "62a07695-37e2-435c-a2f1-a572611a1e88",
   "metadata": {},
   "source": [
    "# Problema 2:"
   ]
  },
  {
   "cell_type": "raw",
   "id": "40d86106-04bc-4d36-a137-f8180107d694",
   "metadata": {},
   "source": [
    "Escriba un programa en Python para construir el siguiente patrón.\n",
    "*\n",
    "* *\n",
    "* * *\n",
    "* * * *\n",
    "* * * * *\n",
    "* * * *\n",
    "* * *\n",
    "* *\n",
    "*"
   ]
  },
  {
   "cell_type": "markdown",
   "id": "f9f5454b-6a56-46d9-bec6-ce210020382b",
   "metadata": {},
   "source": [
    "# Solucion:"
   ]
  },
  {
   "cell_type": "code",
   "execution_count": 46,
   "id": "ea2544e4-7971-49e4-93fa-47b5dc18f0f8",
   "metadata": {},
   "outputs": [
    {
     "name": "stdout",
     "output_type": "stream",
     "text": [
      "#\n",
      "##\n",
      "###\n",
      "####\n",
      "####\n",
      "###\n",
      "##\n",
      "#\n"
     ]
    }
   ],
   "source": [
    "for i in range(1,5):\n",
    "   print('#'* i)\n",
    "for i in range(4,0,-1):\n",
    "    print('#'* i) "
   ]
  },
  {
   "cell_type": "markdown",
   "id": "9136c382-56b0-436b-ad96-e092c46469c2",
   "metadata": {},
   "source": [
    "# Problema 3:"
   ]
  },
  {
   "cell_type": "markdown",
   "id": "89eaa24a-b15d-4b58-9e9d-5036438c5b4f",
   "metadata": {},
   "source": [
    "Por medio de un bucle While genere un código que permita el ingreso de números por teclado. El\n",
    "ingreso de los números debe ser permitido hasta que el usuario decida ya no ingresar nuevos\n",
    "números.\n",
    "Con dichos números, su programa debe evaluar cada uno de estos números e indicar la cantidad de\n",
    "números pares e impares.\n",
    "Ejemplo:\n",
    "“Desea ingresar un número?”: SI\n",
    "“Ingrese el número:” 5\n",
    "“¿Desea ingresar un número?”: SI\n",
    "“Ingrese el número: ” 7\n",
    "……\n",
    "“Desea ingresar un número?”: NO\n",
    "Números ingresados: [ 5,7, 6, 7, 8, 9, 1, 2, 3, 4]\n",
    "Cantidad de números pares: 5\n",
    "Cantidad de números impares: 4\n",
    "Nota:\n",
    "- Quizás a manera de ayuda el uso de una lista le sea de utilidad.\n",
    "- El empleo de break sobre condiciones while también le serán de utilidad."
   ]
  },
  {
   "cell_type": "markdown",
   "id": "8f90709b-bb6f-47d5-83ba-adfafc6dbda6",
   "metadata": {},
   "source": [
    "# Solucion:"
   ]
  },
  {
   "cell_type": "code",
   "execution_count": 64,
   "id": "0b7fd92a-ef64-4c99-8597-04fa82e11a85",
   "metadata": {},
   "outputs": [
    {
     "name": "stdin",
     "output_type": "stream",
     "text": [
      "Desea ingresar un numero? (si/no):  sdfsdf\n"
     ]
    },
    {
     "name": "stdout",
     "output_type": "stream",
     "text": [
      "Respuesta incorrecta, vuelva a intentar\n"
     ]
    },
    {
     "name": "stdin",
     "output_type": "stream",
     "text": [
      "Desea ingresar un numero? (si/no):  si\n",
      "Ingrese el numero:  1\n",
      "Desea ingresar un numero? (si/no):  si\n",
      "Ingrese el numero:  2\n",
      "Desea ingresar un numero? (si/no):  si\n",
      "Ingrese el numero:  3\n",
      "Desea ingresar un numero? (si/no):  si\n",
      "Ingrese el numero:  4\n",
      "Desea ingresar un numero? (si/no):  si\n",
      "Ingrese el numero:  5\n",
      "Desea ingresar un numero? (si/no):  si\n",
      "Ingrese el numero:  6\n",
      "Desea ingresar un numero? (si/no):  si\n",
      "Ingrese el numero:  7\n",
      "Desea ingresar un numero? (si/no):  no\n"
     ]
    },
    {
     "name": "stdout",
     "output_type": "stream",
     "text": [
      "Gracias por su visita...\n",
      "Los numeros ingresados son: [1, 2, 3, 4, 5, 6, 7]\n",
      "Hay 3 numeros son PARES\n",
      "[2, 4, 6]\n",
      "Hay 4 numeros son IMPARES\n",
      "[1, 3, 5, 7]\n"
     ]
    }
   ],
   "source": [
    "numeros=[]\n",
    "numerosPar=[]\n",
    "numerosImpa=[]\n",
    "while True:\n",
    "    respuesta= input(\"Desea ingresar un numero? (si/no): \")\n",
    "    if respuesta == 'si':\n",
    "        \n",
    "        numero= int(input(\"Ingrese el numero: \"))\n",
    "        numeros.append(numero)\n",
    "    elif respuesta == 'no':\n",
    "        print(\"Gracias por su visita...\")\n",
    "        break\n",
    "    else:\n",
    "        print(\"Respuesta incorrecta, vuelva a intentar\")\n",
    "        continue\n",
    "\n",
    "numerosPares= 0\n",
    "numerosImpares= 0  \n",
    "\n",
    "for numero in numeros:\n",
    "    if numero % 2 ==0:\n",
    "        numerosPar.append(numero)\n",
    "        numerosPares+=1\n",
    "    else:\n",
    "        numerosImpa.append(numero)\n",
    "        numerosImpares+=1\n",
    "        \n",
    "        \n",
    "print(f\"Los numeros ingresados son: {numeros}\")\n",
    "print(f\"Hay {numerosPares} numeros son PARES\")\n",
    "print(numerosPar)\n",
    "print(f\"Hay {numerosImpares} numeros son IMPARES\")\n",
    "print(numerosImpa)\n",
    "\n"
   ]
  },
  {
   "cell_type": "markdown",
   "id": "a1510d58-4df9-487f-be93-db383a9cea58",
   "metadata": {},
   "source": [
    "# Problema 4:"
   ]
  },
  {
   "cell_type": "markdown",
   "id": "1c3baa8a-8a31-48cd-9697-e19623c41e49",
   "metadata": {},
   "source": [
    "Imaginemos que lo han contratado para un colegio donde se desea realizar un sistema por el cual se\n",
    "pueda generar un listado de “n” alumnos y 3 calificaciones que corresponden a alguna de sus\n",
    "materias.\n",
    "Puede usar el siguiente esquema a manera de ejemplo\n",
    "{\n",
    "Alumno: Juan,\n",
    "Notas: [10, 12, 15]\n",
    "}\n",
    "Una vez completado el ingreso de los datos, su programa debe mostrar en pantalla el listado\n",
    "completo de los alumnos.\n",
    "Nota:\n",
    "El uso de listas con diccionarios le será de utilidad."
   ]
  },
  {
   "cell_type": "markdown",
   "id": "45b38c96-2f82-4fc4-90f1-4cffc3e27a07",
   "metadata": {},
   "source": [
    "# Solucion:"
   ]
  },
  {
   "cell_type": "code",
   "execution_count": 86,
   "id": "609afbd8-134d-4b60-9f37-a5b1b55f54f9",
   "metadata": {},
   "outputs": [
    {
     "name": "stdin",
     "output_type": "stream",
     "text": [
      "Cuantos alumnos desea registrar:  3\n"
     ]
    },
    {
     "name": "stdout",
     "output_type": "stream",
     "text": [
      "Ingrese los datos del alumno 1: \n"
     ]
    },
    {
     "name": "stdin",
     "output_type": "stream",
     "text": [
      "Ingrese nombre del alumno:  jefree\n",
      "Ingrese la nota 1:  13\n",
      "Ingrese la nota 2:  14\n",
      "Ingrese la nota 3:  15\n"
     ]
    },
    {
     "name": "stdout",
     "output_type": "stream",
     "text": [
      "Ingrese los datos del alumno 2: \n"
     ]
    },
    {
     "name": "stdin",
     "output_type": "stream",
     "text": [
      "Ingrese nombre del alumno:  loud\n",
      "Ingrese la nota 1:  12\n",
      "Ingrese la nota 2:  11\n",
      "Ingrese la nota 3:  16\n"
     ]
    },
    {
     "name": "stdout",
     "output_type": "stream",
     "text": [
      "Ingrese los datos del alumno 3: \n"
     ]
    },
    {
     "name": "stdin",
     "output_type": "stream",
     "text": [
      "Ingrese nombre del alumno:  marcos\n",
      "Ingrese la nota 1:  19\n",
      "Ingrese la nota 2:  18\n",
      "Ingrese la nota 3:  17\n"
     ]
    },
    {
     "name": "stdout",
     "output_type": "stream",
     "text": [
      "Lista de alumnos ingresados con sus notas correspondientes: \n",
      "[{'Nombre': 'jefree', 'Notas': [13, 14, 15]},\n",
      " {'Nombre': 'loud', 'Notas': [12, 11, 16]},\n",
      " {'Nombre': 'marcos', 'Notas': [19, 18, 17]}]\n"
     ]
    }
   ],
   "source": [
    "from pprint import pprint\n",
    "\n",
    "alumnos= []\n",
    "\n",
    "cantAlumnos= int(input(\"Cuantos alumnos desea registrar: \"))\n",
    "\n",
    "for i in range(cantAlumnos):\n",
    "    print(f\"Ingrese los datos del alumno {i+1}: \")\n",
    "    alumno= {}\n",
    "    alumno[\"Nombre\"] = input(\"Ingrese nombre del alumno: \")\n",
    "    \n",
    "    notas= []\n",
    "    for i in range(3):\n",
    "        nota = int(input(f\"Ingrese la nota {i+1}: \"))\n",
    "        notas.append(nota)\n",
    "    alumno[\"Notas\"] = notas\n",
    "\n",
    "    alumnos.append(alumno)\n",
    "\n",
    "print(\"Lista de alumnos ingresados con sus notas correspondientes: \")\n",
    "pprint(alumnos)"
   ]
  },
  {
   "cell_type": "markdown",
   "id": "1a34c471-a041-4a13-b149-0b14e923bb9a",
   "metadata": {},
   "source": [
    "# Funciones:"
   ]
  },
  {
   "cell_type": "markdown",
   "id": "c08f0b31-934e-4f59-8a26-b5d362c16b99",
   "metadata": {},
   "source": [
    "# Problema 5:"
   ]
  },
  {
   "cell_type": "markdown",
   "id": "3c169e00-6c73-4f2b-9dd6-56a1a99763e0",
   "metadata": {},
   "source": [
    "Genere una función que tenga como parámetros el ingreso de un número entero y un dígito.\n",
    "Verifique la cantidad de veces que se usa dicho número en el dígito solicitado.\n",
    "Ejemplo:\n",
    "Número ingresado: 15789000 y Dígito: 0\n",
    "Cantidad de veces 0 en el número: 4\n",
    "Nota: Para resolver este problema, algunos tipos de datos dentro de python contemplan un método\n",
    "count."
   ]
  },
  {
   "cell_type": "markdown",
   "id": "52942c5a-4cdf-4cdc-bafb-d78185b0680d",
   "metadata": {},
   "source": [
    "# Solucion:"
   ]
  },
  {
   "cell_type": "code",
   "execution_count": 68,
   "id": "fea948f6-3b16-42f0-b82d-5ea13b5bf069",
   "metadata": {},
   "outputs": [
    {
     "name": "stdin",
     "output_type": "stream",
     "text": [
      "Ingrese un numero:  15789000\n",
      "Ingrese el digito a buscar  0\n"
     ]
    },
    {
     "name": "stdout",
     "output_type": "stream",
     "text": [
      "Cantidad de 0 en el número 15789000: 3\n"
     ]
    }
   ],
   "source": [
    "def contarDigitos(numero, digito):\n",
    "    numero_str = str(numero) \n",
    "    cantidad = numero_str.count(str(digito)) \n",
    "    return cantidad\n",
    "    \n",
    "numero= input(\"Ingrese un numero: \")\n",
    "digito= input(\"Ingrese el digito a buscar \")\n",
    "\n",
    "cantidadVeces = contarDigitos(numero, digito)\n",
    "print(f\"Cantidad de {digito} en el número {numero}: {cantidadVeces}\")\n"
   ]
  },
  {
   "cell_type": "markdown",
   "id": "ff4c650a-8afa-4a34-8053-5b2b2593f189",
   "metadata": {},
   "source": [
    "# Problema 6:"
   ]
  },
  {
   "cell_type": "markdown",
   "id": "957280f3-7f40-4e0e-98af-c39a3417b24f",
   "metadata": {},
   "source": [
    "Escriba un programa en Python para obtener la serie de Fibonacci entre 0 y 50.\n",
    "Nota: La secuencia de Fibonacci es la serie de números:\n",
    "0, 1, 1, 2, 3, 5, 8, 13, 21,. ...\n",
    "Cada número siguiente se obtiene sumando los dos números anteriores"
   ]
  },
  {
   "cell_type": "markdown",
   "id": "3d2820b1-adc3-4204-aa77-31be095c7c94",
   "metadata": {},
   "source": [
    "# Solucion:"
   ]
  },
  {
   "cell_type": "code",
   "execution_count": 69,
   "id": "103e3dee-4ba8-4473-b18d-acd8ec61ac96",
   "metadata": {},
   "outputs": [
    {
     "name": "stdin",
     "output_type": "stream",
     "text": [
      "Ingrese el limite superior:  50\n"
     ]
    },
    {
     "name": "stdout",
     "output_type": "stream",
     "text": [
      "Serie de Fibonacci hasta 50 :\n",
      "[0, 1, 1, 2, 3, 5, 8, 13, 21, 34]\n"
     ]
    }
   ],
   "source": [
    "def fibonacci(limiteSuperior):\n",
    "    secuenciaFibonacci = [0, 1]\n",
    "    while secuenciaFibonacci[-1] + secuenciaFibonacci[-2] <= limiteSuperior:\n",
    "        siguienteNum = secuenciaFibonacci[-1] + secuenciaFibonacci[-2]\n",
    "        secuenciaFibonacci.append(siguienteNum)\n",
    "    return secuenciaFibonacci\n",
    "\n",
    "limiteSuperior = int(input(\"Ingrese el limite superior: \"))\n",
    "secuenciaFibonacci = fibonacci(limiteSuperior)\n",
    "\n",
    "print(\"Serie de Fibonacci hasta\", limiteSuperior, \":\")\n",
    "print(secuenciaFibonacci)"
   ]
  },
  {
   "cell_type": "markdown",
   "id": "aa51e888-6e70-41f6-9bae-d6b40e15573e",
   "metadata": {},
   "source": [
    "# Problema 7:"
   ]
  },
  {
   "cell_type": "markdown",
   "id": "191b6145-d347-463e-b37a-738b22e44281",
   "metadata": {},
   "source": [
    "Escriba una función de Python que tome un número como parámetro y verifique que el número sea\n",
    "primo o no."
   ]
  },
  {
   "cell_type": "markdown",
   "id": "3c5e7304-2e2b-4b83-857f-d1479f7f3ad9",
   "metadata": {},
   "source": [
    "# Solucion:"
   ]
  },
  {
   "cell_type": "code",
   "execution_count": 78,
   "id": "1579a18e-6ed9-48fc-8858-7aa6a763a2f3",
   "metadata": {},
   "outputs": [
    {
     "name": "stdin",
     "output_type": "stream",
     "text": [
      "Ingrese un numero:  11\n"
     ]
    },
    {
     "name": "stdout",
     "output_type": "stream",
     "text": [
      "11 es PRIMO.\n"
     ]
    }
   ],
   "source": [
    "def numPrimo (numero):\n",
    "    for i in range(2,numero):\n",
    "        if numero % i:\n",
    "            print(f\"{numero} es PRIMO.\")\n",
    "            break\n",
    "        else: \n",
    "            print(f\"{numero} no es PRIMO.\")\n",
    "            break\n",
    "    \n",
    "    \n",
    "numero= int(input(\"Ingrese un numero: \"))\n",
    "numPrimo(numero)\n",
    "\n"
   ]
  },
  {
   "cell_type": "markdown",
   "id": "98d78a82-d051-4475-9e67-de78f08930cd",
   "metadata": {},
   "source": [
    "# Problema 8:"
   ]
  },
  {
   "cell_type": "markdown",
   "id": "9d7af90b-ea01-4066-b4d8-5fed32d0ebcb",
   "metadata": {},
   "source": [
    "Escribe una función de Python para calcular el factorial de un número (un entero no negativo). La\n",
    "función acepta el número como argumento."
   ]
  },
  {
   "cell_type": "markdown",
   "id": "4617b617-4301-49d9-8f9f-88b8eca7e25f",
   "metadata": {},
   "source": [
    "# Solucion:"
   ]
  },
  {
   "cell_type": "code",
   "execution_count": 81,
   "id": "b6e6746b-61a0-4bf7-ad95-6a9e5b5956d8",
   "metadata": {},
   "outputs": [
    {
     "name": "stdin",
     "output_type": "stream",
     "text": [
      "Ingrese un número entero no negativo:  5\n"
     ]
    },
    {
     "name": "stdout",
     "output_type": "stream",
     "text": [
      "El factorial de 5 es 120\n"
     ]
    }
   ],
   "source": [
    "def factorial(numero):\n",
    "    if numero < 0:\n",
    "        print(\"El número debe ser no negativo.\")\n",
    "        return   \n",
    "    resultado = 1\n",
    "    for i in range(1, numero + 1):\n",
    "        resultado *= i\n",
    "    \n",
    "    return resultado\n",
    "\n",
    "numero = int(input(\"Ingrese un número entero no negativo: \"))\n",
    "resultado = factorial(numero)\n",
    "\n",
    "if resultado is not None:\n",
    "    print(f\"El factorial de {numero} es {resultado}\")"
   ]
  },
  {
   "cell_type": "markdown",
   "id": "fe74eb99-91fc-4143-8d2a-5f834dc1ea30",
   "metadata": {},
   "source": [
    "# Métodos de Cadenas:"
   ]
  },
  {
   "cell_type": "markdown",
   "id": "a2dbeddf-480f-4588-9ed3-067f79159862",
   "metadata": {},
   "source": [
    "# Problema 9:"
   ]
  },
  {
   "cell_type": "markdown",
   "id": "31f4cd7a-8f02-44c4-809f-30fc4b09d448",
   "metadata": {},
   "source": [
    "En los Estados Unidos, las fechas suelen tener el siguiente formato: mes-día-año (MM/DD/AAAA). Las\n",
    "fechas en ese formato no se pueden ordenar fácilmente porque el año de la fecha es el último en\n",
    "lugar del primero. Intente ordenar, por ejemplo, 2/2/1800, 3/3/1900 y 1/1/2000 cronológicamente\n",
    "en cualquier programa (por ejemplo, una hoja de cálculo). Las fechas en ese formato también son\n",
    "ambiguas. ¡Una fecha como el 8 de septiembre de 1636, podría interpretarse como el 9 de agosto de\n",
    "1636!\n",
    "Implementar un programa que pida al usuario una fecha, en orden mes-día-año, con formato como\n",
    "8/9/1636 o Septiembre 8, 1636, donde el mes en este último podría ser cualquiera de los valores en\n",
    "la lista abajo:\n",
    "[\n",
    "\"Enero\",\n",
    "\"Febrero\",\n",
    "\"Marzo\",\n",
    "\"Abril\",\n",
    "\"Mayo\",\n",
    "\"Junio\",\n",
    "\"Julio\",\n",
    "\"Agosto\",\n",
    "\"Septiembre\",\n",
    "\"Octubre\",\n",
    "\"Noviembre\",\n",
    "\"Diciembre\"\n",
    "]\n",
    "Luego, genere esa misma fecha en formato AAAA-MM-DD.\n",
    "Ejemplos:\n",
    "- Input: 9/8/1636 | Output: 1636-09-08\n",
    "- Input: Septiembre 8, 1636 | Output: 1636-09-08\n",
    "- Input: 1/1/1970 | Output: 1970-01-01\n",
    "Nota:\n",
    "- Los métodos de listas y string le resultarán de gran utilidad.\n",
    "- Nota que si empleamos print(f\"{n:02}\") , esta completará con 0 valos a la izquierda de un\n",
    "número"
   ]
  },
  {
   "cell_type": "markdown",
   "id": "58cd66ab-d965-4704-9d2d-b81c12b0708c",
   "metadata": {},
   "source": [
    "# Solucion:"
   ]
  },
  {
   "cell_type": "code",
   "execution_count": 84,
   "id": "dc949b29-0a58-497c-aa09-022a9c790ab8",
   "metadata": {},
   "outputs": [
    {
     "name": "stdin",
     "output_type": "stream",
     "text": [
      "Ingrese una fecha en formato mes-día-año o Mes dia, año:  Abril 9, 2000\n"
     ]
    },
    {
     "name": "stdout",
     "output_type": "stream",
     "text": [
      "Fecha en formato AAAA-MM-DD: 2000-04-09\n"
     ]
    }
   ],
   "source": [
    "def obtener_mes_numero(mes):\n",
    "    meses = [\n",
    "        \"Enero\", \"Febrero\", \"Marzo\", \"Abril\", \"Mayo\", \"Junio\",\n",
    "        \"Julio\", \"Agosto\", \"Septiembre\", \"Octubre\", \"Noviembre\", \"Diciembre\"\n",
    "    ]\n",
    "    return meses.index(mes) + 1\n",
    "\n",
    "def convertir_fecha(fecha):\n",
    "    partes = fecha.split()\n",
    "    if len(partes) == 3:\n",
    "        mes, dia, anio = partes[0], partes[1][:-1], partes[2]\n",
    "    else:\n",
    "        dia, mes, anio = partes[1], partes[0], partes[2]\n",
    "\n",
    "    mes_numero = obtener_mes_numero(mes)\n",
    "    fecha_formateada = f\"{anio}-{mes_numero:02d}-{int(dia):02d}\"\n",
    "    return fecha_formateada\n",
    "\n",
    "entrada = input(\"Ingrese una fecha en formato mes-día-año o Mes dia, año: \")\n",
    "fecha_convertida = convertir_fecha(entrada)\n",
    "print(f\"Fecha en formato AAAA-MM-DD: {fecha_convertida}\")"
   ]
  }
 ],
 "metadata": {
  "kernelspec": {
   "display_name": "Python 3 (ipykernel)",
   "language": "python",
   "name": "python3"
  },
  "language_info": {
   "codemirror_mode": {
    "name": "ipython",
    "version": 3
   },
   "file_extension": ".py",
   "mimetype": "text/x-python",
   "name": "python",
   "nbconvert_exporter": "python",
   "pygments_lexer": "ipython3",
   "version": "3.10.9"
  }
 },
 "nbformat": 4,
 "nbformat_minor": 5
}
